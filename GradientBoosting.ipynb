{
 "cells": [
  {
   "cell_type": "code",
   "execution_count": 1,
   "metadata": {
    "collapsed": false
   },
   "outputs": [
    {
     "name": "stderr",
     "output_type": "stream",
     "text": [
      "C:\\Anaconda2\\lib\\site-packages\\sklearn\\cross_validation.py:44: DeprecationWarning: This module was deprecated in version 0.18 in favor of the model_selection module into which all the refactored classes and functions are moved. Also note that the interface of the new CV iterators are different from that of this module. This module will be removed in 0.20.\n",
      "  \"This module will be removed in 0.20.\", DeprecationWarning)\n",
      "C:\\Anaconda2\\lib\\site-packages\\sklearn\\grid_search.py:43: DeprecationWarning: This module was deprecated in version 0.18 in favor of the model_selection module into which all the refactored classes and functions are moved. This module will be removed in 0.20.\n",
      "  DeprecationWarning)\n"
     ]
    }
   ],
   "source": [
    "import pandas as pd\n",
    "import numpy as np\n",
    "from sklearn.cross_validation import train_test_split\n",
    "from sklearn.grid_search import GridSearchCV\n",
    "from sklearn.ensemble import GradientBoostingClassifier\n",
    "\n",
    "train = pd.read_csv(\"train_set.csv\")\n",
    "test = pd.read_csv(\"test_set.csv\")"
   ]
  },
  {
   "cell_type": "code",
   "execution_count": 2,
   "metadata": {
    "collapsed": true
   },
   "outputs": [],
   "source": [
    "dummy_cols = ['funder', 'installer', 'basin', 'public_meeting', 'scheme_management'\n",
    "             , 'permit', 'construction_year', 'extraction_type_class', 'payment', \n",
    "              'water_quality', 'quantity', 'source', 'source_class', 'waterpoint_type',\n",
    "             'waterpoint_type_group']\n",
    "\n",
    "train = pd.get_dummies(train, columns= dummy_cols)\n",
    "\n",
    "train = train.sample(frac=1).reset_index(drop=True)"
   ]
  },
  {
   "cell_type": "code",
   "execution_count": 3,
   "metadata": {
    "collapsed": true
   },
   "outputs": [],
   "source": [
    "test = pd.get_dummies(test, columns= dummy_cols)"
   ]
  },
  {
   "cell_type": "code",
   "execution_count": 4,
   "metadata": {
    "collapsed": true
   },
   "outputs": [],
   "source": [
    "target = train.status_group\n",
    "features = train.drop('status_group', axis=1)\n",
    "\n",
    "X_train, X_val, y_train, y_val = train_test_split(features, target, train_size=0.8)"
   ]
  },
  {
   "cell_type": "code",
   "execution_count": 5,
   "metadata": {
    "collapsed": true
   },
   "outputs": [],
   "source": [
    "def model(X_train, X_val, y_train, y_val, test):\n",
    "    if __name__ == '__main__':\n",
    "        param_grid = {'learning_rate': [0.075, 0.7],\n",
    "                     'max_depth': [13,14],\n",
    "                     'min_samples_leaf': [15,16],\n",
    "                     'max_features': [1.0],\n",
    "                     'n_estimators': [100,200]}\n",
    "        \n",
    "        estimator = GridSearchCV(estimator=GradientBoostingClassifier(),\n",
    "                                param_grid=param_grid,\n",
    "                                n_jobs=-1)\n",
    "        estimator.fit(X_train, y_train)\n",
    "        \n",
    "        best_params = estimator.best_params_\n",
    "        \n",
    "        print(best_params)\n",
    "        \n",
    "        validation_accuracy = estimator.score(X_val, y_val)\n",
    "        print('Validation accuracy: ', validation_accuracy)"
   ]
  },
  {
   "cell_type": "code",
   "execution_count": 6,
   "metadata": {
    "collapsed": true
   },
   "outputs": [],
   "source": [
    "#model(X_train, X_val, y_train, y_val, test)\n",
    "\n",
    "('Validation accuracy: ', 0.7988)\n",
    "{'max_features': 1.0, 'n_estimators': 100, \n",
    " 'learning_rate': 0.075, \n",
    "'max_depth': 14, 'min_samples_leaf': 15}"
   ]
  },
  {
   "cell_type": "code",
   "execution_count": 7,
   "metadata": {
    "collapsed": false
   },
   "outputs": [],
   "source": [
    "test_id = pd.read_csv(\"SubmissionFormat.csv\")\n",
    "test_id.columns = ['idd', 'status_group']\n",
    "test_id = test_id.idd"
   ]
  },
  {
   "cell_type": "code",
   "execution_count": null,
   "metadata": {
    "collapsed": true
   },
   "outputs": [],
   "source": [
    "def model_for_submission(features, target, test):\n",
    "    if __name__== '__main__':\n",
    "        \n",
    "        best_params = {'learning_rate': [0.075],\n",
    "                      'max_depth': [14],\n",
    "                      'min_samples_leaf': [15],\n",
    "                      'max_features': [1.0],\n",
    "                      'n_estimators': [100]}\n",
    "        \n",
    "        estimator = GridSearchCV(estimator=GradientBoostingClassifier(),\n",
    "                                param_grid=best_params,\n",
    "                                n_jobs=-1)\n",
    "        estimator.fit(features, target)\n",
    "        \n",
    "        predictions = estimator.predict(test)\n",
    "        data = {'ID': test_id, 'status_group': predictions}\n",
    "        \n",
    "        submit = pd.DataFrame(data=data)\n",
    "        \n",
    "        vals_to_replace = {2: 'functional', 1: 'functional needs repair',\n",
    "                          0: 'non functional'}\n",
    "        \n",
    "        submit.status_group = submit.status_group.replace(vals_to_replace)\n",
    "        \n",
    "        submit.to_csv('predictions_gradient_boosting.csv' index=False)"
   ]
  },
  {
   "cell_type": "code",
   "execution_count": null,
   "metadata": {
    "collapsed": true
   },
   "outputs": [],
   "source": [
    "model_for_submission(features, target, test)"
   ]
  }
 ],
 "metadata": {
  "kernelspec": {
   "display_name": "Python 2",
   "language": "python",
   "name": "python2"
  },
  "language_info": {
   "codemirror_mode": {
    "name": "ipython",
    "version": 2
   },
   "file_extension": ".py",
   "mimetype": "text/x-python",
   "name": "python",
   "nbconvert_exporter": "python",
   "pygments_lexer": "ipython2",
   "version": "2.7.13"
  }
 },
 "nbformat": 4,
 "nbformat_minor": 2
}
