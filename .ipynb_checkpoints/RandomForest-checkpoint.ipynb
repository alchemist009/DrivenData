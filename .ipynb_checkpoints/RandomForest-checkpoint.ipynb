{
 "cells": [
  {
   "cell_type": "code",
   "execution_count": 89,
   "metadata": {
    "collapsed": false
   },
   "outputs": [],
   "source": [
    "import pandas as pd\n",
    "import numpy as np\n",
    "from sklearn.ensemble import RandomForestClassifier\n",
    "import matplotlib as plt\n",
    "from sklearn.metrics import accuracy_score\n",
    "from sklearn.metrics import confusion_matrix\n",
    "from sklearn.model_selection import train_test_split\n",
    "from sklearn.model_selection import GridSearchCV"
   ]
  },
  {
   "cell_type": "code",
   "execution_count": 90,
   "metadata": {
    "collapsed": false
   },
   "outputs": [],
   "source": [
    "train = pd.read_csv(\"train_set.csv\")\n",
    "test = pd.read_csv(\"test_set.csv\")"
   ]
  },
  {
   "cell_type": "code",
   "execution_count": 91,
   "metadata": {
    "collapsed": true
   },
   "outputs": [],
   "source": [
    "dummy_cols = ['funder', 'installer', 'basin', 'public_meeting', 'scheme_management'\n",
    "             , 'permit', 'construction_year', 'extraction_type_class', 'payment', \n",
    "              'water_quality', 'quantity', 'source', 'source_class', 'waterpoint_type',\n",
    "             'waterpoint_type_group']\n",
    "\n",
    "train = pd.get_dummies(train, columns= dummy_cols)\n",
    "\n",
    "train = train.sample(frac=1).reset_index(drop=True)"
   ]
  },
  {
   "cell_type": "code",
   "execution_count": 92,
   "metadata": {
    "collapsed": true
   },
   "outputs": [],
   "source": [
    "test = pd.get_dummies(test, columns=dummy_cols)"
   ]
  },
  {
   "cell_type": "code",
   "execution_count": 93,
   "metadata": {
    "collapsed": true
   },
   "outputs": [],
   "source": [
    "target = train.status_group\n",
    "features = train.drop('status_group', axis=1)\n",
    "\n",
    "X_train, X_val, y_train, y_val = train_test_split(features, target, train_size=0.8)"
   ]
  },
  {
   "cell_type": "code",
   "execution_count": 94,
   "metadata": {
    "collapsed": true
   },
   "outputs": [],
   "source": [
    "def model_random_forest(X_train, X_val, y_train, y_val, test):\n",
    "    if __name__ == '__main__':\n",
    "    \n",
    "        rf = RandomForestClassifier(criterion='gini',\n",
    "                                   max_features='auto',\n",
    "                                   min_samples_split=6,\n",
    "                                   oob_score=True,\n",
    "                                   random_state=1,\n",
    "                                   n_jobs=-1)\n",
    "\n",
    "        param_grid = {'n_estimators' : [500,750,1000]}\n",
    "\n",
    "        gs = GridSearchCV(estimator=rf,\n",
    "                         param_grid=param_grid,\n",
    "                         scoring='accuracy',\n",
    "                         cv=2,\n",
    "                         n_jobs=-1)\n",
    "\n",
    "        gs = gs.fit(X_train, y_train)\n",
    "\n",
    "        best_params = gs.best_params_\n",
    "        cv_results = gs.cv_results_\n",
    "        validation_accuracy = gs.score(X_val, y_val)\n",
    "\n",
    "        print(\"Validation accuracy: \", validation_accuracy)\n",
    "        print(best_params)\n",
    "        print(cv_results)\n",
    "    "
   ]
  },
  {
   "cell_type": "code",
   "execution_count": 95,
   "metadata": {
    "collapsed": false
   },
   "outputs": [],
   "source": [
    "#model_random_forest(X_train, X_val, y_train, y_val, test)\n",
    "\n",
    "# ('Validation accuracy: ', 0.79436026936026938)\n",
    "# {'n_estimators': 750}\n",
    "# {'std_train_score': array([ 0.00113211,  0.00109002,  0.00100586]), 'rank_test_score': array([3, 1, 2])\n",
    "#  , 'mean_score_time': array([ 5.005     ,  4.06449986,  4.84350002]), \n",
    "#  'std_test_score': array([ 0.00102219, 0.00104325,  0.00112742]), \n",
    "#  'split1_train_score': array([ 0.89781575,  0.89789992,  0.89832078]), \n",
    "#  'split0_test_score': array([ 0.78633054,  0.78666723,  0.78633054]), \n",
    "#  'mean_test_score': array([ 0.78735269,  0.78771044,  0.78745791]), \n",
    "#  'split0_train_score': array([ 0.90007997,  0.90007997,  0.90033251]), \n",
    "#  'params': ({'n_estimators': 500}, {'n_estimators': 750}, {'n_estimators': 1000}), \n",
    "#  'std_fit_time': array([ 2.05050004,  0.36849999,  0.01399994]), \n",
    "#  'std_score_time': array([ 0.76100004,  0.20749998,  0.12749994]), \n",
    "#  'param_n_estimators': masked_array(data = [500 750 1000],\n",
    "#              mask = [False False False],\n",
    "#        fill_value = ?)\n",
    "# , 'mean_train_score': array([ 0.89894786,  0.89898994,  0.89932664]), \n",
    "#  'mean_fit_time': array([ 58.68850005,  70.90350008,  81.10700011]), \n",
    "#  'split1_test_score': array([ 0.78837493,  0.78875374,  0.78858538])}"
   ]
  },
  {
   "cell_type": "code",
   "execution_count": 96,
   "metadata": {
    "collapsed": false
   },
   "outputs": [],
   "source": [
    "test_id = pd.read_csv(\"SubmissionFormat.csv\")\n",
    "test_id.columns = ['idd', 'status_group']\n",
    "test_id = test_id.idd"
   ]
  },
  {
   "cell_type": "code",
   "execution_count": null,
   "metadata": {
    "collapsed": false
   },
   "outputs": [],
   "source": [
    "def model_for_submission_rf(features, target, test):\n",
    "    if __name__== '__main__':\n",
    "        \n",
    "        best_params = { 'criterion': ['gini'],\n",
    "                           'max_features': ['auto'],\n",
    "                           'min_samples_split': [6],\n",
    "                           'random_state': [1],\n",
    "                           'n_estimators': [750],\n",
    "                            'oob_score': [1]}\n",
    "        estimator = GridSearchCV(estimator=RandomForestClassifier(),\n",
    "                                param_grid=best_params,\n",
    "                                n_jobs=-1)\n",
    "        estimator.fit(features, target)\n",
    "        \n",
    "        predictions = estimator.predict(test)\n",
    "        \n",
    "        data = {'ID' : test_id, 'status_group' : predictions}\n",
    "        \n",
    "        submit = pd.DataFrame(data=data)\n",
    "        \n",
    "        vals_to_replace = {2: 'Functional', 1: 'functional needs repair', 0: 'non functional'}\n",
    "        \n",
    "        submit.status_group = submit.status_group.replace(vals_to_replace)\n",
    "        submit.to_csv('pump_predictions_rf.csv', index=False)"
   ]
  },
  {
   "cell_type": "code",
   "execution_count": null,
   "metadata": {
    "collapsed": false
   },
   "outputs": [],
   "source": [
    "model_for_submission_rf(features, target, test)"
   ]
  }
 ],
 "metadata": {
  "kernelspec": {
   "display_name": "Python 2",
   "language": "python",
   "name": "python2"
  }
 },
 "nbformat": 4,
 "nbformat_minor": 2
}
